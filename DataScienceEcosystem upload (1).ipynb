{
 "cells": [
  {
   "cell_type": "code",
   "execution_count": null,
   "id": "dd2ac78f",
   "metadata": {},
   "outputs": [],
   "source": []
  },
  {
   "cell_type": "markdown",
   "id": "f1f41a34",
   "metadata": {},
   "source": [
    "# Data Science Tools and Ecosystem"
   ]
  },
  {
   "cell_type": "markdown",
   "id": "34f15f36",
   "metadata": {},
   "source": [
    "**Objectives:**\n",
    "- List popular languages for Data Science.\n",
    "- Introduce common data science libraries.\n",
    "- Showcase data science tools.\n",
    "- Provide examples of arithmetic expressions.\n",
    "- Convert units (minutes to hours).\n"
   ]
  },
  {
   "cell_type": "markdown",
   "id": "9af28490",
   "metadata": {},
   "source": [
    "# In this notebook, Data Science Tools and Ecosystem are summarized."
   ]
  },
  {
   "cell_type": "markdown",
   "id": "853e76a4",
   "metadata": {},
   "source": [
    "Some of the popular languages that Data Scientists use are:\n",
    "\n",
    "1. Python\n",
    "2. R\n",
    "3. Julia\n",
    "4. SQL"
   ]
  },
  {
   "cell_type": "markdown",
   "id": "f1d38e06",
   "metadata": {},
   "source": [
    "# Some of the commonly used libraries used by Data Scientists include:\n",
    "\n",
    "1. Pandas\n",
    "2. NumPy\n",
    "3. Matplotlib\n",
    "4. Seaborn\n"
   ]
  },
  {
   "cell_type": "markdown",
   "id": "3a5621a5",
   "metadata": {},
   "source": [
    "# | Data Science Tools       |\n",
    "| ------------------------ |\n",
    "| Jupyter Notebook         |\n",
    "| R Studio                 |\n",
    "| Apache Spark             |\n"
   ]
  },
  {
   "cell_type": "code",
   "execution_count": null,
   "id": "f80e2bbd",
   "metadata": {},
   "outputs": [],
   "source": [
    "### Examples of Arithmetic Expressions in Python\n",
    "\n",
    "Below are a few examples of evaluating arithmetic expressions in Python.\n",
    "\n",
    "1. **Addition:**\n",
    "3+5\n",
    "Result: 8\n",
    "\n",
    "2. **Subtraction:**\n",
    "10-4\n",
    "Result: 6\n",
    "\n",
    "3. **Multiplication:**\n",
    "6*7\n",
    "Result: 42\n",
    "\n",
    "4. **Division:**\n",
    "20/4\n",
    "Result: 5"
   ]
  },
  {
   "cell_type": "code",
   "execution_count": null,
   "id": "74349c11",
   "metadata": {},
   "outputs": [],
   "source": []
  },
  {
   "cell_type": "code",
   "execution_count": 1,
   "id": "9edd1cd9",
   "metadata": {},
   "outputs": [
    {
     "data": {
      "text/plain": [
       "17"
      ]
     },
     "execution_count": 1,
     "metadata": {},
     "output_type": "execute_result"
    }
   ],
   "source": [
    "# This is a simple arithmetic expression to multiply then add integers\n",
    "result = (3 * 4) + 5\n",
    "result\n"
   ]
  },
  {
   "cell_type": "code",
   "execution_count": 2,
   "id": "6ebd6845",
   "metadata": {},
   "outputs": [
    {
     "data": {
      "text/plain": [
       "3.3333333333333335"
      ]
     },
     "execution_count": 2,
     "metadata": {},
     "output_type": "execute_result"
    }
   ],
   "source": [
    "# This will convert 200 minutes to hours by dividing by 60\n",
    "minutes = 200\n",
    "hours = minutes / 60\n",
    "hours\n"
   ]
  },
  {
   "cell_type": "markdown",
   "id": "61a5d10b",
   "metadata": {},
   "source": [
    "## Author\n",
    "Sajal Chourasia"
   ]
  },
  {
   "cell_type": "markdown",
   "id": "db4da1ed",
   "metadata": {},
   "source": []
  }
 ],
 "metadata": {
  "kernelspec": {
   "display_name": "Python 3 (ipykernel)",
   "language": "python",
   "name": "python3"
  },
  "language_info": {
   "codemirror_mode": {
    "name": "ipython",
    "version": 3
   },
   "file_extension": ".py",
   "mimetype": "text/x-python",
   "name": "python",
   "nbconvert_exporter": "python",
   "pygments_lexer": "ipython3",
   "version": "3.11.4"
  }
 },
 "nbformat": 4,
 "nbformat_minor": 5
}
